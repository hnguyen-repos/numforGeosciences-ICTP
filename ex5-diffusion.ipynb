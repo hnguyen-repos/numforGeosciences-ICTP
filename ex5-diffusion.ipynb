{
 "cells": [
  {
   "cell_type": "code",
   "execution_count": 4,
   "metadata": {},
   "outputs": [],
   "source": [
    "import numpy as np\n",
    "import matplotlib.pyplot as plt\n",
    "\n",
    "# function\n",
    "def funcDiff(x):\n",
    "    y = np.zeros(len(x))\n",
    "    for i in range(0, len(x)):\n",
    "        if x[i] > 0.5:\n",
    "            y[i] = 273.15 + 20 - 20*x[i] + np.sin(50*np.pi*x[i])\n",
    "        else:\n",
    "            y[i] = 273.15 + 20*x[i] + np.sin(50*np.pi*x[i])\n",
    "    return y\n",
    "\n",
    "# scheme\n",
    "def diffusionscheme(x0, y0, k, dx, tinterval, tpoint, fixedboudary):\n",
    "    mult = k*dt/dx**2\n",
    "    t = 0; sz = len(x0)\n",
    "    while t < tpoint:\n",
    "        y0 =  mult*(np.roll(y0, -1) - 2*y0 + np.roll(y0, 1)) + y0\n",
    "        y0[0] = fixedboudary\n",
    "        y0[sz-1] = fixedboudary\n",
    "        if t % tinterval < dt:\n",
    "            plt.plot(x0, y0, label=\"$\\phi$(\" + str(int(np.floor(t/3600))) + \"h)\")\n",
    "        t = t + dt\n",
    "    plt.legend()\n",
    "    plt.grid()\n",
    "\n",
    "# initial condition\n",
    "dt = 0.1; k = 2.9e-5; dx = 0.01\n",
    "x0 = np.arange(0, 1, dx)\n",
    "y0 = funcDiff(x0)\n",
    "tinterval = 3600\n",
    "tpoint = 3600*6 + 10\n",
    "\n",
    "# run\n",
    "diffusionscheme(x0, y0, k, dx, tinterval, tpoint, 273.15)\n",
    "\n",
    "\n",
    "    "
   ]
  }
 ],
 "metadata": {
  "kernelspec": {
   "display_name": "base",
   "language": "python",
   "name": "python3"
  },
  "language_info": {
   "codemirror_mode": {
    "name": "ipython",
    "version": 3
   },
   "file_extension": ".py",
   "mimetype": "text/x-python",
   "name": "python",
   "nbconvert_exporter": "python",
   "pygments_lexer": "ipython3",
   "version": "3.10.8"
  },
  "orig_nbformat": 4,
  "vscode": {
   "interpreter": {
    "hash": "d8c0ad78633a8b43965fe5f8bc8a2da663397bf1cf3d05244bf937683be8c88a"
   }
  }
 },
 "nbformat": 4,
 "nbformat_minor": 2
}
